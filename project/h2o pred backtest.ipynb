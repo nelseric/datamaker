{
 "metadata": {
  "name": "",
  "signature": "sha256:b0fc1428cf5851619169e28a9f63037e5df5a08dbd6c67039d3c480b1c50bf22"
 },
 "nbformat": 3,
 "nbformat_minor": 0,
 "worksheets": [
  {
   "cells": [
    {
     "cell_type": "code",
     "collapsed": false,
     "input": [
      "%matplotlib inline\n",
      "import matplotlib\n",
      "matplotlib.rcParams['figure.figsize'] =  16, 9"
     ],
     "language": "python",
     "metadata": {},
     "outputs": [],
     "prompt_number": 1
    },
    {
     "cell_type": "code",
     "collapsed": false,
     "input": [
      "import datamaker.db as db\n",
      "from pathlib import Path\n",
      "from datamaker.backtest import Market, Backtest\n",
      "import pandas as pd"
     ],
     "language": "python",
     "metadata": {},
     "outputs": [],
     "prompt_number": 2
    },
    {
     "cell_type": "code",
     "collapsed": false,
     "input": [
      "path = Path(\".\")\n",
      "s = db.Session()\n",
      "strategy = s.query(db.Strategy).all()[2]"
     ],
     "language": "python",
     "metadata": {},
     "outputs": [],
     "prompt_number": 3
    },
    {
     "cell_type": "code",
     "collapsed": false,
     "input": [
      "pred_path = path / \"data\" / \"predict\" / \"gbp_buy.csv\"\n",
      "predictions = pd.read_csv(pred_path.open(), index_col=\"time\", parse_dates=True)"
     ],
     "language": "python",
     "metadata": {},
     "outputs": [],
     "prompt_number": 4
    },
    {
     "cell_type": "code",
     "collapsed": false,
     "input": [
      "historical = strategy.currency_pair.historical_data(path).ix[predictions.index]\n",
      "ev = strategy.evaluator(prediction_data=predictions)"
     ],
     "language": "python",
     "metadata": {},
     "outputs": [],
     "prompt_number": 18
    },
    {
     "cell_type": "code",
     "collapsed": false,
     "input": [
      "market = Market(historical, instrument=\"GBP_USD\", account_size=100000, leverage=1)"
     ],
     "language": "python",
     "metadata": {},
     "outputs": [],
     "prompt_number": 19
    },
    {
     "cell_type": "code",
     "collapsed": false,
     "input": [
      "backtest = Backtest(historical, market=market, evaluators=[ev])"
     ],
     "language": "python",
     "metadata": {},
     "outputs": [],
     "prompt_number": 20
    },
    {
     "cell_type": "code",
     "collapsed": false,
     "input": [
      "backtest.run()"
     ],
     "language": "python",
     "metadata": {},
     "outputs": [
      {
       "output_type": "stream",
       "stream": "stdout",
       "text": [
        "2013-04-29 06:54:00: <Market(GBP_USD):100035.00 0/2/7>\n",
        "2013-05-02 18:31:00: <Market(GBP_USD):100040.00 0/2/18>"
       ]
      },
      {
       "output_type": "stream",
       "stream": "stdout",
       "text": [
        "\n",
        "2013-05-08 06:47:00: <Market(GBP_USD):100030.00 0/2/28>"
       ]
      },
      {
       "output_type": "stream",
       "stream": "stdout",
       "text": [
        "\n",
        "2013-05-13 18:19:00: <Market(GBP_USD):100000.00 0/2/42>"
       ]
      },
      {
       "output_type": "stream",
       "stream": "stdout",
       "text": [
        "\n",
        "2013-05-17 05:45:00: <Market(GBP_USD):99985.00 0/2/59>"
       ]
      },
      {
       "output_type": "stream",
       "stream": "stdout",
       "text": [
        "\n",
        "2013-05-22 17:50:00: <Market(GBP_USD):99940.00 0/2/80>"
       ]
      },
      {
       "output_type": "stream",
       "stream": "stdout",
       "text": [
        "\n",
        "2013-05-28 05:49:00: <Market(GBP_USD):99945.00 0/2/91>"
       ]
      },
      {
       "output_type": "stream",
       "stream": "stdout",
       "text": [
        "\n",
        "2013-05-31 17:15:00: <Market(GBP_USD):99950.00 0/2/108>"
       ]
      },
      {
       "output_type": "stream",
       "stream": "stdout",
       "text": [
        "\n",
        "2013-06-06 04:44:00: <Market(GBP_USD):99990.00 0/2/120>"
       ]
      },
      {
       "output_type": "stream",
       "stream": "stdout",
       "text": [
        "\n",
        "2013-06-11 16:06:00: <Market(GBP_USD):100000.00 0/2/138>"
       ]
      },
      {
       "output_type": "stream",
       "stream": "stdout",
       "text": [
        "\n",
        "2013-06-17 03:44:00: <Market(GBP_USD):100020.00 0/2/148>"
       ]
      },
      {
       "output_type": "stream",
       "stream": "stdout",
       "text": [
        "\n",
        "2013-06-20 15:15:00: <Market(GBP_USD):99970.00 0/2/168>"
       ]
      },
      {
       "output_type": "stream",
       "stream": "stdout",
       "text": [
        "\n",
        "2013-06-26 02:42:00: <Market(GBP_USD):99965.00 0/2/181>"
       ]
      },
      {
       "output_type": "stream",
       "stream": "stdout",
       "text": [
        "\n",
        "2013-07-01 14:11:00: <Market(GBP_USD):99920.00 0/2/192>"
       ]
      },
      {
       "output_type": "stream",
       "stream": "stdout",
       "text": [
        "\n",
        "2013-07-05 02:03:00: <Market(GBP_USD):99890.00 0/2/206>"
       ]
      },
      {
       "output_type": "stream",
       "stream": "stdout",
       "text": [
        "\n",
        "2013-07-10 13:35:00: <Market(GBP_USD):99865.00 0/2/225>"
       ]
      },
      {
       "output_type": "stream",
       "stream": "stdout",
       "text": [
        "\n",
        "2013-07-16 01:20:00: <Market(GBP_USD):99885.00 0/2/251>"
       ]
      },
      {
       "output_type": "stream",
       "stream": "stdout",
       "text": [
        "\n",
        "2013-07-19 12:48:00: <Market(GBP_USD):99900.00 0/2/272>"
       ]
      },
      {
       "output_type": "stream",
       "stream": "stdout",
       "text": [
        "\n",
        "2013-07-25 02:01:00: <Market(GBP_USD):99905.00 0/2/277>"
       ]
      },
      {
       "output_type": "stream",
       "stream": "stdout",
       "text": [
        "\n",
        "2013-07-30 13:44:00: <Market(GBP_USD):99905.00 0/2/289>"
       ]
      },
      {
       "output_type": "stream",
       "stream": "stdout",
       "text": [
        "\n",
        "2013-08-05 02:04:00: <Market(GBP_USD):99875.00 0/2/321>"
       ]
      },
      {
       "output_type": "stream",
       "stream": "stdout",
       "text": [
        "\n",
        "2013-08-08 13:41:00: <Market(GBP_USD):99925.00 0/2/339>"
       ]
      },
      {
       "output_type": "stream",
       "stream": "stdout",
       "text": [
        "\n",
        "2013-08-14 01:56:00: <Market(GBP_USD):99915.00 0/2/345>"
       ]
      },
      {
       "output_type": "stream",
       "stream": "stdout",
       "text": [
        "\n",
        "2013-08-19 13:37:00: <Market(GBP_USD):99945.00 0/2/355>"
       ]
      },
      {
       "output_type": "stream",
       "stream": "stdout",
       "text": [
        "\n",
        "2013-08-23 01:24:00: <Market(GBP_USD):99935.00 0/2/361>"
       ]
      },
      {
       "output_type": "stream",
       "stream": "stdout",
       "text": [
        "\n",
        "2013-08-28 13:21:00: <Market(GBP_USD):99915.00 0/2/375>"
       ]
      },
      {
       "output_type": "stream",
       "stream": "stdout",
       "text": [
        "\n",
        "2013-09-03 01:15:00: <Market(GBP_USD):99925.00 0/2/377>"
       ]
      },
      {
       "output_type": "stream",
       "stream": "stdout",
       "text": [
        "\n",
        "2013-09-06 13:08:00: <Market(GBP_USD):99930.00 0/2/386>"
       ]
      },
      {
       "output_type": "stream",
       "stream": "stdout",
       "text": [
        "\n",
        "2013-09-12 01:03:00: <Market(GBP_USD):99960.00 0/2/392>"
       ]
      },
      {
       "output_type": "stream",
       "stream": "stdout",
       "text": [
        "\n",
        "2013-09-17 12:49:00: <Market(GBP_USD):99970.00 0/2/398>"
       ]
      },
      {
       "output_type": "stream",
       "stream": "stdout",
       "text": [
        "\n",
        "2013-09-23 01:02:00: <Market(GBP_USD):99985.00 0/2/411>"
       ]
      },
      {
       "output_type": "stream",
       "stream": "stdout",
       "text": [
        "\n",
        "2013-09-26 13:17:00: <Market(GBP_USD):99990.00 0/2/420>"
       ]
      },
      {
       "output_type": "stream",
       "stream": "stdout",
       "text": [
        "\n",
        "2013-10-02 00:56:00: <Market(GBP_USD):100015.00 0/2/433>"
       ]
      },
      {
       "output_type": "stream",
       "stream": "stdout",
       "text": [
        "\n",
        "2013-10-07 13:42:00: <Market(GBP_USD):99985.00 0/2/447>"
       ]
      },
      {
       "output_type": "stream",
       "stream": "stdout",
       "text": [
        "\n",
        "2013-10-11 01:19:00: <Market(GBP_USD):99955.00 0/2/457>"
       ]
      },
      {
       "output_type": "stream",
       "stream": "stdout",
       "text": [
        "\n",
        "2013-10-16 13:46:00: <Market(GBP_USD):99970.00 0/2/468>"
       ]
      },
      {
       "output_type": "stream",
       "stream": "stdout",
       "text": [
        "\n",
        "2013-10-22 01:29:00: <Market(GBP_USD):99990.00 0/2/484>"
       ]
      },
      {
       "output_type": "stream",
       "stream": "stdout",
       "text": [
        "\n",
        "2013-10-25 13:20:00: <Market(GBP_USD):100010.00 0/2/498>"
       ]
      },
      {
       "output_type": "stream",
       "stream": "stdout",
       "text": [
        "\n",
        "2013-10-31 01:04:00: <Market(GBP_USD):99975.00 0/2/505>"
       ]
      },
      {
       "output_type": "stream",
       "stream": "stdout",
       "text": [
        "\n",
        "2013-11-05 13:39:00: <Market(GBP_USD):99975.00 0/2/515>"
       ]
      },
      {
       "output_type": "stream",
       "stream": "stdout",
       "text": [
        "\n",
        "2013-11-11 01:16:00: <Market(GBP_USD):99970.00 0/2/526>"
       ]
      },
      {
       "output_type": "stream",
       "stream": "stdout",
       "text": [
        "\n",
        "2013-11-14 12:50:00: <Market(GBP_USD):99975.00 0/2/543>"
       ]
      },
      {
       "output_type": "stream",
       "stream": "stdout",
       "text": [
        "\n",
        "2013-11-20 00:19:00: <Market(GBP_USD):99995.00 0/2/549>"
       ]
      },
      {
       "output_type": "stream",
       "stream": "stdout",
       "text": [
        "\n",
        "2013-11-25 11:44:00: <Market(GBP_USD):100020.00 0/2/558>"
       ]
      },
      {
       "output_type": "stream",
       "stream": "stdout",
       "text": [
        "\n",
        "2013-11-28 23:24:00: <Market(GBP_USD):100035.00 0/0/569>"
       ]
      },
      {
       "output_type": "stream",
       "stream": "stdout",
       "text": [
        "\n",
        "2013-12-04 10:54:00: <Market(GBP_USD):100030.00 0/2/578>"
       ]
      },
      {
       "output_type": "stream",
       "stream": "stdout",
       "text": [
        "\n",
        "2013-12-09 22:33:00: <Market(GBP_USD):100040.00 0/0/592>"
       ]
      },
      {
       "output_type": "stream",
       "stream": "stdout",
       "text": [
        "\n",
        "2013-12-13 10:10:00: <Market(GBP_USD):100020.00 0/2/596>"
       ]
      },
      {
       "output_type": "stream",
       "stream": "stdout",
       "text": [
        "\n",
        "2013-12-18 21:52:00: <Market(GBP_USD):100025.00 0/1/611>"
       ]
      },
      {
       "output_type": "stream",
       "stream": "stdout",
       "text": [
        "\n",
        "2013-12-24 09:57:00: <Market(GBP_USD):100015.00 0/2/617>"
       ]
      },
      {
       "output_type": "stream",
       "stream": "stdout",
       "text": [
        "\n",
        "2013-12-31 02:16:00: <Market(GBP_USD):100040.00 0/2/622>"
       ]
      },
      {
       "output_type": "stream",
       "stream": "stdout",
       "text": [
        "\n",
        "2014-01-06 17:55:00: <Market(GBP_USD):100020.00 0/2/634>"
       ]
      },
      {
       "output_type": "stream",
       "stream": "stdout",
       "text": [
        "\n",
        "2014-01-10 05:45:00: <Market(GBP_USD):100030.00 0/2/640>"
       ]
      },
      {
       "output_type": "stream",
       "stream": "stdout",
       "text": [
        "\n",
        "2014-01-15 17:34:00: <Market(GBP_USD):100000.00 0/2/660>"
       ]
      },
      {
       "output_type": "stream",
       "stream": "stdout",
       "text": [
        "\n",
        "2014-01-21 05:40:00: <Market(GBP_USD):100005.00 0/2/665>"
       ]
      },
      {
       "output_type": "stream",
       "stream": "stdout",
       "text": [
        "\n",
        "2014-01-24 17:27:00: <Market(GBP_USD):100025.00 0/2/679>"
       ]
      },
      {
       "output_type": "stream",
       "stream": "stdout",
       "text": [
        "\n",
        "2014-01-30 05:18:00: <Market(GBP_USD):100030.00 0/2/688>"
       ]
      },
      {
       "output_type": "stream",
       "stream": "stdout",
       "text": [
        "\n",
        "2014-02-04 17:00:00: <Market(GBP_USD):99980.00 0/2/702>"
       ]
      },
      {
       "output_type": "stream",
       "stream": "stdout",
       "text": [
        "\n",
        "2014-02-10 04:43:00: <Market(GBP_USD):99980.00 0/2/714>"
       ]
      },
      {
       "output_type": "stream",
       "stream": "stdout",
       "text": [
        "\n",
        "2014-02-13 17:19:00: <Market(GBP_USD):100010.00 0/1/722>"
       ]
      },
      {
       "output_type": "stream",
       "stream": "stdout",
       "text": [
        "\n",
        "2014-02-19 05:12:00: <Market(GBP_USD):100000.00 0/2/728>"
       ]
      },
      {
       "output_type": "stream",
       "stream": "stdout",
       "text": [
        "\n",
        "2014-02-24 17:16:00: <Market(GBP_USD):99975.00 0/2/745>"
       ]
      },
      {
       "output_type": "stream",
       "stream": "stdout",
       "text": [
        "\n",
        "2014-02-28 07:53:00: <Market(GBP_USD):100000.00 0/2/758>"
       ]
      },
      {
       "output_type": "stream",
       "stream": "stdout",
       "text": [
        "\n",
        "2014-03-05 19:46:00: <Market(GBP_USD):99995.00 0/2/771>"
       ]
      },
      {
       "output_type": "stream",
       "stream": "stdout",
       "text": [
        "\n",
        "2014-03-11 07:18:00: <Market(GBP_USD):99985.00 0/2/779>"
       ]
      },
      {
       "output_type": "stream",
       "stream": "stdout",
       "text": [
        "\n",
        "2014-03-14 19:04:00: <Market(GBP_USD):99975.00 0/2/787>"
       ]
      },
      {
       "output_type": "stream",
       "stream": "stdout",
       "text": [
        "\n",
        "2014-03-20 07:36:00: <Market(GBP_USD):99955.00 0/2/795>"
       ]
      },
      {
       "output_type": "stream",
       "stream": "stdout",
       "text": [
        "\n",
        "2014-03-25 19:40:00: <Market(GBP_USD):99955.00 0/2/799>"
       ]
      },
      {
       "output_type": "stream",
       "stream": "stdout",
       "text": [
        "\n",
        "2014-03-31 08:00:00: <Market(GBP_USD):99970.00 0/2/804>"
       ]
      },
      {
       "output_type": "stream",
       "stream": "stdout",
       "text": [
        "\n",
        "2014-04-03 20:01:00: <Market(GBP_USD):99960.00 0/2/810>"
       ]
      },
      {
       "output_type": "stream",
       "stream": "stdout",
       "text": [
        "\n",
        "2014-04-09 08:57:00: <Market(GBP_USD):99990.00 0/2/816>"
       ]
      },
      {
       "output_type": "stream",
       "stream": "stdout",
       "text": [
        "\n",
        "2014-04-14 21:00:00: <Market(GBP_USD):99980.00 0/2/822>"
       ]
      },
      {
       "output_type": "stream",
       "stream": "stdout",
       "text": [
        "\n",
        "2014-04-18 09:34:00: <Market(GBP_USD):99995.00 0/2/829>"
       ]
      },
      {
       "output_type": "stream",
       "stream": "stdout",
       "text": [
        "\n",
        "2014-04-23 22:59:00: <Market(GBP_USD):99985.00 0/2/831>"
       ]
      },
      {
       "output_type": "stream",
       "stream": "stdout",
       "text": [
        "\n",
        "2014-04-29 12:10:00: <Market(GBP_USD):99995.00 0/2/835>"
       ]
      },
      {
       "output_type": "stream",
       "stream": "stdout",
       "text": [
        "\n",
        "2014-05-05 02:15:00: <Market(GBP_USD):100000.00 0/2/840>"
       ]
      },
      {
       "output_type": "stream",
       "stream": "stdout",
       "text": [
        "\n",
        "2014-05-08 15:44:00: <Market(GBP_USD):100015.00 0/2/843>"
       ]
      },
      {
       "output_type": "stream",
       "stream": "stdout",
       "text": [
        "\n",
        "2014-05-14 04:32:00: <Market(GBP_USD):99985.00 0/2/849>"
       ]
      },
      {
       "output_type": "stream",
       "stream": "stdout",
       "text": [
        "\n",
        "2014-05-19 17:30:00: <Market(GBP_USD):99980.00 0/2/856>"
       ]
      },
      {
       "output_type": "stream",
       "stream": "stdout",
       "text": [
        "\n",
        "2014-05-23 06:26:00: <Market(GBP_USD):99990.00 0/2/860>"
       ]
      },
      {
       "output_type": "stream",
       "stream": "stdout",
       "text": [
        "\n",
        "2014-05-28 19:40:00: <Market(GBP_USD):99960.00 0/2/870>"
       ]
      },
      {
       "output_type": "stream",
       "stream": "stdout",
       "text": [
        "\n",
        "2014-06-03 08:43:00: <Market(GBP_USD):99960.00 0/2/872>"
       ]
      },
      {
       "output_type": "stream",
       "stream": "stdout",
       "text": [
        "\n",
        "2014-06-08 21:27:00: <Market(GBP_USD):99975.00 0/2/877>"
       ]
      },
      {
       "output_type": "stream",
       "stream": "stdout",
       "text": [
        "\n",
        "2014-06-12 10:50:00: <Market(GBP_USD):99975.00 0/2/881>"
       ]
      },
      {
       "output_type": "stream",
       "stream": "stdout",
       "text": [
        "\n",
        "2014-06-17 23:00:00: <Market(GBP_USD):99985.00 0/2/883>"
       ]
      },
      {
       "output_type": "stream",
       "stream": "stdout",
       "text": [
        "\n",
        "2014-06-23 12:30:00: <Market(GBP_USD):99995.00 0/2/889>"
       ]
      },
      {
       "output_type": "stream",
       "stream": "stdout",
       "text": [
        "\n",
        "2014-06-27 01:52:00: <Market(GBP_USD):99990.00 0/2/892>"
       ]
      },
      {
       "output_type": "stream",
       "stream": "stdout",
       "text": [
        "\n",
        "2014-07-02 14:50:00: <Market(GBP_USD):100015.00 0/2/897>"
       ]
      },
      {
       "output_type": "stream",
       "stream": "stdout",
       "text": [
        "\n",
        "2014-07-08 04:17:00: <Market(GBP_USD):100015.00 0/2/897>"
       ]
      },
      {
       "output_type": "stream",
       "stream": "stdout",
       "text": [
        "\n",
        "2014-07-11 17:15:00: <Market(GBP_USD):100005.00 0/2/903>"
       ]
      },
      {
       "output_type": "stream",
       "stream": "stdout",
       "text": [
        "\n",
        "2014-07-17 06:47:00: <Market(GBP_USD):100005.00 0/2/909>"
       ]
      },
      {
       "output_type": "stream",
       "stream": "stdout",
       "text": [
        "\n",
        "2014-07-22 19:41:00: <Market(GBP_USD):99995.00 0/2/911>"
       ]
      },
      {
       "output_type": "stream",
       "stream": "stdout",
       "text": [
        "\n",
        "2014-07-28 09:39:00: <Market(GBP_USD):99975.00 0/2/915>"
       ]
      },
      {
       "output_type": "stream",
       "stream": "stdout",
       "text": [
        "\n",
        "2014-07-31 22:49:00: <Market(GBP_USD):99955.00 0/2/919>"
       ]
      },
      {
       "output_type": "stream",
       "stream": "stdout",
       "text": [
        "\n",
        "2014-08-06 13:32:00: <Market(GBP_USD):99945.00 0/2/921>"
       ]
      },
      {
       "output_type": "stream",
       "stream": "stdout",
       "text": [
        "\n",
        "2014-08-12 14:11:00: <Market(GBP_USD):99935.00 0/2/923>"
       ]
      },
      {
       "output_type": "stream",
       "stream": "stdout",
       "text": [
        "\n",
        "2014-08-19 11:17:00: <Market(GBP_USD):99905.00 0/2/929>"
       ]
      },
      {
       "output_type": "stream",
       "stream": "stdout",
       "text": [
        "\n",
        "2014-08-26 02:10:00: <Market(GBP_USD):99885.00 0/2/937>"
       ]
      },
      {
       "output_type": "stream",
       "stream": "stdout",
       "text": [
        "\n",
        "2014-09-01 14:50:00: <Market(GBP_USD):99895.00 0/2/939>"
       ]
      },
      {
       "output_type": "stream",
       "stream": "stdout",
       "text": [
        "\n",
        "2014-09-07 23:47:00: <Market(GBP_USD):99815.00 0/2/955>"
       ]
      },
      {
       "output_type": "stream",
       "stream": "stdout",
       "text": [
        "\n",
        "2014-09-11 20:47:00: <Market(GBP_USD):99815.00 0/2/975>"
       ]
      },
      {
       "output_type": "stream",
       "stream": "stdout",
       "text": [
        "\n",
        "2014-09-17 21:18:00: <Market(GBP_USD):99820.00 0/2/996>"
       ]
      },
      {
       "output_type": "stream",
       "stream": "stdout",
       "text": [
        "\n",
        "2014-09-23 15:03:00: <Market(GBP_USD):99830.00 0/2/1014>"
       ]
      },
      {
       "output_type": "stream",
       "stream": "stdout",
       "text": [
        "\n",
        "2014-09-29 14:29:00: <Market(GBP_USD):99800.00 0/2/1020>"
       ]
      },
      {
       "output_type": "stream",
       "stream": "stdout",
       "text": [
        "\n",
        "2014-10-03 13:10:00: <Market(GBP_USD):99755.00 0/2/1035>"
       ]
      },
      {
       "output_type": "stream",
       "stream": "stdout",
       "text": [
        "\n",
        "2014-10-09 09:42:00: <Market(GBP_USD):99785.00 0/2/1055>"
       ]
      },
      {
       "output_type": "stream",
       "stream": "stdout",
       "text": [
        "\n",
        "2014-10-15 05:58:00: <Market(GBP_USD):99715.00 0/2/1077>"
       ]
      },
      {
       "output_type": "stream",
       "stream": "stdout",
       "text": [
        "\n",
        "2014-10-20 23:34:00: <Market(GBP_USD):99765.00 0/2/1109>"
       ]
      },
      {
       "output_type": "stream",
       "stream": "stdout",
       "text": [
        "\n",
        "2014-10-26 22:12:00: <Market(GBP_USD):99745.00 0/2/1119>"
       ]
      },
      {
       "output_type": "stream",
       "stream": "stdout",
       "text": [
        "\n",
        "2014-10-30 21:16:00: <Market(GBP_USD):99730.00 0/2/1132>"
       ]
      },
      {
       "output_type": "stream",
       "stream": "stdout",
       "text": [
        "\n",
        "2014-11-05 15:08:00: <Market(GBP_USD):99715.00 0/2/1145>"
       ]
      },
      {
       "output_type": "stream",
       "stream": "stdout",
       "text": [
        "\n",
        "2014-11-11 08:19:00: <Market(GBP_USD):99690.00 0/2/1158>"
       ]
      },
      {
       "output_type": "stream",
       "stream": "stdout",
       "text": [
        "\n",
        "2014-11-17 02:07:00: <Market(GBP_USD):99650.00 0/2/1174>"
       ]
      },
      {
       "output_type": "stream",
       "stream": "stdout",
       "text": [
        "\n",
        "2014-11-20 23:42:00: <Market(GBP_USD):99650.00 0/2/1188>"
       ]
      },
      {
       "output_type": "stream",
       "stream": "stdout",
       "text": [
        "\n",
        "2014-11-26 18:17:00: <Market(GBP_USD):99665.00 0/2/1199>"
       ]
      },
      {
       "output_type": "stream",
       "stream": "stdout",
       "text": [
        "\n",
        "2014-12-02 14:07:00: <Market(GBP_USD):99640.00 0/2/1216>"
       ]
      },
      {
       "output_type": "stream",
       "stream": "stdout",
       "text": [
        "\n",
        "2014-12-08 10:16:00: <Market(GBP_USD):99620.00 0/2/1232>"
       ]
      },
      {
       "output_type": "stream",
       "stream": "stdout",
       "text": [
        "\n",
        "2014-12-12 02:58:00: <Market(GBP_USD):99650.00 0/2/1246>"
       ]
      },
      {
       "output_type": "stream",
       "stream": "stdout",
       "text": [
        "\n",
        "2014-12-17 05:16:00: <Market(GBP_USD):99650.00 0/2/1258>"
       ]
      },
      {
       "output_type": "stream",
       "stream": "stdout",
       "text": [
        "\n"
       ]
      }
     ],
     "prompt_number": 21
    },
    {
     "cell_type": "code",
     "collapsed": false,
     "input": [
      "market.balance_data.plot()"
     ],
     "language": "python",
     "metadata": {},
     "outputs": [
      {
       "metadata": {},
       "output_type": "pyout",
       "prompt_number": 10,
       "text": [
        "<matplotlib.axes._subplots.AxesSubplot at 0x7f241669c150>"
       ]
      },
      {
       "metadata": {},
       "output_type": "display_data",
       "png": "[encoded data removed]",
       "text": [
        "<matplotlib.figure.Figure at 0x7f24166f2a50>"
       ]
      }
     ],
     "prompt_number": 10
    },
    {
     "cell_type": "code",
     "collapsed": false,
     "input": [
      "bm_pred = strategy.load_heuristic(path).copy().ix[historical.index]\n",
      "bm_pred.columns = [\"1\"]"
     ],
     "language": "python",
     "metadata": {},
     "outputs": [],
     "prompt_number": 17
    },
    {
     "cell_type": "code",
     "collapsed": false,
     "input": [
      "bm_market = Market(historical, instrument=\"GBP_USD\", account_size=100000, leverage=1)\n",
      "bm_ev = strategy.evaluator(prediction_data=bm_pred)\n",
      "bm_backtest = Backtest(historical, market=bm_market, evaluators=[bm_ev, ev])"
     ],
     "language": "python",
     "metadata": {},
     "outputs": [],
     "prompt_number": 14
    },
    {
     "cell_type": "code",
     "collapsed": false,
     "input": [
      "bm_backtest.run()"
     ],
     "language": "python",
     "metadata": {},
     "outputs": [
      {
       "output_type": "stream",
       "stream": "stdout",
       "text": [
        "2013-04-29 06:54:00: <Market(GBP_USD):100040.00 0/2/8>\n",
        "2013-05-02 18:31:00: <Market(GBP_USD):100060.00 0/2/12>"
       ]
      },
      {
       "output_type": "stream",
       "stream": "stdout",
       "text": [
        "\n",
        "2013-05-08 06:47:00: <Market(GBP_USD):100070.00 0/2/14>"
       ]
      },
      {
       "output_type": "stream",
       "stream": "stdout",
       "text": [
        "\n",
        "2013-05-13 18:19:00: <Market(GBP_USD):100110.00 0/1/22>"
       ]
      },
      {
       "output_type": "stream",
       "stream": "stdout",
       "text": [
        "\n",
        "2013-05-17 05:45:00: <Market(GBP_USD):100140.00 0/0/28>"
       ]
      },
      {
       "output_type": "stream",
       "stream": "stdout",
       "text": [
        "\n",
        "2013-05-22 17:50:00: <Market(GBP_USD):100170.00 0/2/34>"
       ]
      },
      {
       "output_type": "stream",
       "stream": "stdout",
       "text": [
        "\n",
        "2013-05-28 05:49:00: <Market(GBP_USD):100190.00 0/2/38>"
       ]
      },
      {
       "output_type": "stream",
       "stream": "stdout",
       "text": [
        "\n",
        "2013-05-31 17:15:00: <Market(GBP_USD):100235.00 0/2/47>"
       ]
      },
      {
       "output_type": "stream",
       "stream": "stdout",
       "text": [
        "\n",
        "2013-06-06 04:44:00: <Market(GBP_USD):100275.00 0/2/55>"
       ]
      },
      {
       "output_type": "stream",
       "stream": "stdout",
       "text": [
        "\n",
        "2013-06-11 16:06:00: <Market(GBP_USD):100355.00 0/2/71>"
       ]
      },
      {
       "output_type": "stream",
       "stream": "stdout",
       "text": [
        "\n",
        "2013-06-17 03:44:00: <Market(GBP_USD):100385.00 0/0/77>"
       ]
      },
      {
       "output_type": "stream",
       "stream": "stdout",
       "text": [
        "\n",
        "2013-06-20 15:15:00: <Market(GBP_USD):100425.00 0/2/85>"
       ]
      },
      {
       "output_type": "stream",
       "stream": "stdout",
       "text": [
        "\n",
        "2013-06-26 02:42:00: <Market(GBP_USD):100455.00 0/0/91>"
       ]
      },
      {
       "output_type": "stream",
       "stream": "stdout",
       "text": [
        "\n",
        "2013-07-01 14:11:00: <Market(GBP_USD):100475.00 0/0/95>"
       ]
      },
      {
       "output_type": "stream",
       "stream": "stdout",
       "text": [
        "\n",
        "2013-07-05 02:03:00: <Market(GBP_USD):100490.00 0/0/100>"
       ]
      },
      {
       "output_type": "stream",
       "stream": "stdout",
       "text": [
        "\n",
        "2013-07-10 13:35:00: <Market(GBP_USD):100525.00 0/2/107>"
       ]
      },
      {
       "output_type": "stream",
       "stream": "stdout",
       "text": [
        "\n",
        "2013-07-16 01:20:00: <Market(GBP_USD):100605.00 0/2/123>"
       ]
      },
      {
       "output_type": "stream",
       "stream": "stdout",
       "text": [
        "\n",
        "2013-07-19 12:48:00: <Market(GBP_USD):100655.00 0/2/133>"
       ]
      },
      {
       "output_type": "stream",
       "stream": "stdout",
       "text": [
        "\n",
        "2013-07-25 02:01:00: <Market(GBP_USD):100685.00 0/2/139>"
       ]
      },
      {
       "output_type": "stream",
       "stream": "stdout",
       "text": [
        "\n",
        "2013-07-30 13:44:00: <Market(GBP_USD):100725.00 0/0/147>"
       ]
      },
      {
       "output_type": "stream",
       "stream": "stdout",
       "text": [
        "\n",
        "2013-08-05 02:04:00: <Market(GBP_USD):100775.00 0/2/157>"
       ]
      },
      {
       "output_type": "stream",
       "stream": "stdout",
       "text": [
        "\n",
        "2013-08-08 13:41:00: <Market(GBP_USD):100860.00 0/2/174>"
       ]
      },
      {
       "output_type": "stream",
       "stream": "stdout",
       "text": [
        "\n",
        "2013-08-14 01:56:00: <Market(GBP_USD):100870.00 0/2/176>"
       ]
      },
      {
       "output_type": "stream",
       "stream": "stdout",
       "text": [
        "\n",
        "2013-08-19 13:37:00: <Market(GBP_USD):100900.00 0/2/182>"
       ]
      },
      {
       "output_type": "stream",
       "stream": "stdout",
       "text": [
        "\n",
        "2013-08-23 01:24:00: <Market(GBP_USD):100920.00 0/2/186>"
       ]
      },
      {
       "output_type": "stream",
       "stream": "stdout",
       "text": [
        "\n",
        "2013-08-28 13:21:00: <Market(GBP_USD):100960.00 0/2/194>"
       ]
      },
      {
       "output_type": "stream",
       "stream": "stdout",
       "text": [
        "\n",
        "2013-09-03 01:15:00: <Market(GBP_USD):100970.00 0/2/196>"
       ]
      },
      {
       "output_type": "stream",
       "stream": "stdout",
       "text": [
        "\n",
        "2013-09-06 13:08:00: <Market(GBP_USD):101000.00 0/2/202>"
       ]
      },
      {
       "output_type": "stream",
       "stream": "stdout",
       "text": [
        "\n",
        "2013-09-12 01:03:00: <Market(GBP_USD):101030.00 0/2/208>"
       ]
      },
      {
       "output_type": "stream",
       "stream": "stdout",
       "text": [
        "\n",
        "2013-09-17 12:49:00: <Market(GBP_USD):101050.00 0/2/212>"
       ]
      },
      {
       "output_type": "stream",
       "stream": "stdout",
       "text": [
        "\n",
        "2013-09-23 01:02:00: <Market(GBP_USD):101080.00 0/2/218>"
       ]
      },
      {
       "output_type": "stream",
       "stream": "stdout",
       "text": [
        "\n",
        "2013-09-26 13:17:00: <Market(GBP_USD):101100.00 0/2/222>"
       ]
      },
      {
       "output_type": "stream",
       "stream": "stdout",
       "text": [
        "\n",
        "2013-10-02 00:56:00: <Market(GBP_USD):101140.00 0/2/230>"
       ]
      },
      {
       "output_type": "stream",
       "stream": "stdout",
       "text": [
        "\n",
        "2013-10-07 13:42:00: <Market(GBP_USD):101150.00 0/2/232>"
       ]
      },
      {
       "output_type": "stream",
       "stream": "stdout",
       "text": [
        "\n",
        "2013-10-11 01:19:00: <Market(GBP_USD):101160.00 0/2/234>"
       ]
      },
      {
       "output_type": "stream",
       "stream": "stdout",
       "text": [
        "\n",
        "2013-10-16 13:46:00: <Market(GBP_USD):101180.00 0/0/238>"
       ]
      },
      {
       "output_type": "stream",
       "stream": "stdout",
       "text": [
        "\n",
        "2013-10-22 01:29:00: <Market(GBP_USD):101230.00 0/2/248>"
       ]
      },
      {
       "output_type": "stream",
       "stream": "stdout",
       "text": [
        "\n",
        "2013-10-25 13:20:00: <Market(GBP_USD):101260.00 0/0/254>"
       ]
      },
      {
       "output_type": "stream",
       "stream": "stdout",
       "text": [
        "\n",
        "2013-10-31 01:04:00: <Market(GBP_USD):101260.00 0/2/256>"
       ]
      },
      {
       "output_type": "stream",
       "stream": "stdout",
       "text": [
        "\n",
        "2013-11-05 13:39:00: <Market(GBP_USD):101290.00 0/2/262>"
       ]
      },
      {
       "output_type": "stream",
       "stream": "stdout",
       "text": [
        "\n",
        "2013-11-11 01:16:00: <Market(GBP_USD):101325.00 0/0/269>"
       ]
      },
      {
       "output_type": "stream",
       "stream": "stdout",
       "text": [
        "\n",
        "2013-11-14 12:50:00: <Market(GBP_USD):101355.00 0/2/275>"
       ]
      },
      {
       "output_type": "stream",
       "stream": "stdout",
       "text": [
        "\n",
        "2013-11-20 00:19:00: <Market(GBP_USD):101375.00 0/2/279>"
       ]
      },
      {
       "output_type": "stream",
       "stream": "stdout",
       "text": [
        "\n",
        "2013-11-25 11:44:00: <Market(GBP_USD):101410.00 0/0/286>"
       ]
      },
      {
       "output_type": "stream",
       "stream": "stdout",
       "text": [
        "\n",
        "2013-11-28 23:24:00: <Market(GBP_USD):101445.00 0/2/293>"
       ]
      },
      {
       "output_type": "stream",
       "stream": "stdout",
       "text": [
        "\n",
        "2013-12-04 10:54:00: <Market(GBP_USD):101465.00 0/2/297>"
       ]
      },
      {
       "output_type": "stream",
       "stream": "stdout",
       "text": [
        "\n",
        "2013-12-09 22:33:00: <Market(GBP_USD):101500.00 0/0/304>"
       ]
      },
      {
       "output_type": "stream",
       "stream": "stdout",
       "text": [
        "\n",
        "2013-12-13 10:10:00: <Market(GBP_USD):101510.00 0/0/306>"
       ]
      },
      {
       "output_type": "stream",
       "stream": "stdout",
       "text": [
        "\n",
        "2013-12-18 21:52:00: <Market(GBP_USD):101560.00 0/0/316>"
       ]
      },
      {
       "output_type": "stream",
       "stream": "stdout",
       "text": [
        "\n",
        "2013-12-24 09:57:00: <Market(GBP_USD):101560.00 0/2/316>"
       ]
      },
      {
       "output_type": "stream",
       "stream": "stdout",
       "text": [
        "\n",
        "2013-12-31 02:16:00: <Market(GBP_USD):101590.00 0/2/322>"
       ]
      },
      {
       "output_type": "stream",
       "stream": "stdout",
       "text": [
        "\n",
        "2014-01-06 17:55:00: <Market(GBP_USD):101630.00 0/2/330>"
       ]
      },
      {
       "output_type": "stream",
       "stream": "stdout",
       "text": [
        "\n",
        "2014-01-10 05:45:00: <Market(GBP_USD):101640.00 0/0/332>"
       ]
      },
      {
       "output_type": "stream",
       "stream": "stdout",
       "text": [
        "\n",
        "2014-01-15 17:34:00: <Market(GBP_USD):101690.00 0/2/342>"
       ]
      },
      {
       "output_type": "stream",
       "stream": "stdout",
       "text": [
        "\n",
        "2014-01-21 05:40:00: <Market(GBP_USD):101700.00 0/2/344>"
       ]
      },
      {
       "output_type": "stream",
       "stream": "stdout",
       "text": [
        "\n",
        "2014-01-24 17:27:00: <Market(GBP_USD):101740.00 0/2/352>"
       ]
      },
      {
       "output_type": "stream",
       "stream": "stdout",
       "text": [
        "\n",
        "2014-01-30 05:18:00: <Market(GBP_USD):101780.00 0/0/360>"
       ]
      },
      {
       "output_type": "stream",
       "stream": "stdout",
       "text": [
        "\n",
        "2014-02-04 17:00:00: <Market(GBP_USD):101790.00 0/2/362>"
       ]
      },
      {
       "output_type": "stream",
       "stream": "stdout",
       "text": [
        "\n",
        "2014-02-10 04:43:00: <Market(GBP_USD):101810.00 0/2/366>"
       ]
      },
      {
       "output_type": "stream",
       "stream": "stdout",
       "text": [
        "\n",
        "2014-02-13 17:19:00: <Market(GBP_USD):101860.00 0/2/376>"
       ]
      },
      {
       "output_type": "stream",
       "stream": "stdout",
       "text": [
        "\n",
        "2014-02-19 05:12:00: <Market(GBP_USD):101900.00 0/2/384>"
       ]
      },
      {
       "output_type": "stream",
       "stream": "stdout",
       "text": [
        "\n",
        "2014-02-24 17:16:00: <Market(GBP_USD):101935.00 0/2/391>"
       ]
      },
      {
       "output_type": "stream",
       "stream": "stdout",
       "text": [
        "\n",
        "2014-02-28 07:53:00: <Market(GBP_USD):101970.00 0/2/398>"
       ]
      },
      {
       "output_type": "stream",
       "stream": "stdout",
       "text": [
        "\n",
        "2014-03-05 19:46:00: <Market(GBP_USD):102000.00 0/2/404>"
       ]
      },
      {
       "output_type": "stream",
       "stream": "stdout",
       "text": [
        "\n",
        "2014-03-11 07:18:00: <Market(GBP_USD):102005.00 0/0/407>"
       ]
      },
      {
       "output_type": "stream",
       "stream": "stdout",
       "text": [
        "\n",
        "2014-03-14 19:04:00: <Market(GBP_USD):102025.00 0/2/411>"
       ]
      },
      {
       "output_type": "stream",
       "stream": "stdout",
       "text": [
        "\n",
        "2014-03-20 07:36:00: <Market(GBP_USD):102045.00 0/2/415>"
       ]
      },
      {
       "output_type": "stream",
       "stream": "stdout",
       "text": [
        "\n",
        "2014-03-25 19:40:00: <Market(GBP_USD):102055.00 0/2/417>"
       ]
      },
      {
       "output_type": "stream",
       "stream": "stdout",
       "text": [
        "\n",
        "2014-03-31 08:00:00: <Market(GBP_USD):102075.00 0/2/421>"
       ]
      },
      {
       "output_type": "stream",
       "stream": "stdout",
       "text": [
        "\n",
        "2014-04-03 20:01:00: <Market(GBP_USD):102085.00 0/2/423>"
       ]
      },
      {
       "output_type": "stream",
       "stream": "stdout",
       "text": [
        "\n",
        "2014-04-09 08:57:00: <Market(GBP_USD):102115.00 0/2/429>"
       ]
      },
      {
       "output_type": "stream",
       "stream": "stdout",
       "text": [
        "\n",
        "2014-04-14 21:00:00: <Market(GBP_USD):102125.00 0/1/431>"
       ]
      },
      {
       "output_type": "stream",
       "stream": "stdout",
       "text": [
        "\n",
        "2014-04-18 09:34:00: <Market(GBP_USD):102145.00 0/2/435>"
       ]
      },
      {
       "output_type": "stream",
       "stream": "stdout",
       "text": [
        "\n",
        "2014-04-23 22:59:00: <Market(GBP_USD):102145.00 0/2/435>"
       ]
      },
      {
       "output_type": "stream",
       "stream": "stdout",
       "text": [
        "\n",
        "2014-04-29 12:10:00: <Market(GBP_USD):102150.00 0/2/436>"
       ]
      },
      {
       "output_type": "stream",
       "stream": "stdout",
       "text": [
        "\n",
        "2014-05-05 02:15:00: <Market(GBP_USD):102165.00 0/2/439>"
       ]
      },
      {
       "output_type": "stream",
       "stream": "stdout",
       "text": [
        "\n",
        "2014-05-08 15:44:00: <Market(GBP_USD):102185.00 0/0/443>"
       ]
      },
      {
       "output_type": "stream",
       "stream": "stdout",
       "text": [
        "\n",
        "2014-05-14 04:32:00: <Market(GBP_USD):102195.00 0/2/445>"
       ]
      },
      {
       "output_type": "stream",
       "stream": "stdout",
       "text": [
        "\n",
        "2014-05-19 17:30:00: <Market(GBP_USD):102215.00 0/2/449>"
       ]
      },
      {
       "output_type": "stream",
       "stream": "stdout",
       "text": [
        "\n",
        "2014-05-23 06:26:00: <Market(GBP_USD):102235.00 0/0/453>"
       ]
      },
      {
       "output_type": "stream",
       "stream": "stdout",
       "text": [
        "\n",
        "2014-05-28 19:40:00: <Market(GBP_USD):102245.00 0/2/455>"
       ]
      },
      {
       "output_type": "stream",
       "stream": "stdout",
       "text": [
        "\n",
        "2014-06-03 08:43:00: <Market(GBP_USD):102245.00 0/2/455>"
       ]
      },
      {
       "output_type": "stream",
       "stream": "stdout",
       "text": [
        "\n",
        "2014-06-08 21:27:00: <Market(GBP_USD):102265.00 0/2/459>"
       ]
      },
      {
       "output_type": "stream",
       "stream": "stdout",
       "text": [
        "\n",
        "2014-06-12 10:50:00: <Market(GBP_USD):102275.00 0/2/461>"
       ]
      },
      {
       "output_type": "stream",
       "stream": "stdout",
       "text": [
        "\n",
        "2014-06-17 23:00:00: <Market(GBP_USD):102310.00 0/2/468>"
       ]
      },
      {
       "output_type": "stream",
       "stream": "stdout",
       "text": [
        "\n",
        "2014-06-23 12:30:00: <Market(GBP_USD):102335.00 0/0/473>"
       ]
      },
      {
       "output_type": "stream",
       "stream": "stdout",
       "text": [
        "\n",
        "2014-06-27 01:52:00: <Market(GBP_USD):102335.00 0/2/473>"
       ]
      },
      {
       "output_type": "stream",
       "stream": "stdout",
       "text": [
        "\n",
        "2014-07-02 14:50:00: <Market(GBP_USD):102365.00 0/0/479>"
       ]
      },
      {
       "output_type": "stream",
       "stream": "stdout",
       "text": [
        "\n",
        "2014-07-08 04:17:00: <Market(GBP_USD):102375.00 0/2/481>"
       ]
      },
      {
       "output_type": "stream",
       "stream": "stdout",
       "text": [
        "\n",
        "2014-07-11 17:15:00: <Market(GBP_USD):102385.00 0/2/483>"
       ]
      },
      {
       "output_type": "stream",
       "stream": "stdout",
       "text": [
        "\n",
        "2014-07-17 06:47:00: <Market(GBP_USD):102395.00 0/0/485>"
       ]
      },
      {
       "output_type": "stream",
       "stream": "stdout",
       "text": [
        "\n",
        "2014-07-22 19:41:00: <Market(GBP_USD):102405.00 0/0/487>"
       ]
      },
      {
       "output_type": "stream",
       "stream": "stdout",
       "text": [
        "\n",
        "2014-07-28 09:39:00: <Market(GBP_USD):102405.00 0/0/487>"
       ]
      },
      {
       "output_type": "stream",
       "stream": "stdout",
       "text": [
        "\n",
        "2014-07-31 22:49:00: <Market(GBP_USD):102405.00 0/0/487>"
       ]
      },
      {
       "output_type": "stream",
       "stream": "stdout",
       "text": [
        "\n",
        "2014-08-06 13:32:00: <Market(GBP_USD):102415.00 0/0/489>"
       ]
      },
      {
       "output_type": "stream",
       "stream": "stdout",
       "text": [
        "\n",
        "2014-08-12 14:11:00: <Market(GBP_USD):102415.00 0/2/489>"
       ]
      },
      {
       "output_type": "stream",
       "stream": "stdout",
       "text": [
        "\n",
        "2014-08-19 11:17:00: <Market(GBP_USD):102420.00 0/0/494>"
       ]
      },
      {
       "output_type": "stream",
       "stream": "stdout",
       "text": [
        "\n",
        "2014-08-26 02:10:00: <Market(GBP_USD):102430.00 0/2/496>"
       ]
      },
      {
       "output_type": "stream",
       "stream": "stdout",
       "text": [
        "\n",
        "2014-09-01 14:50:00: <Market(GBP_USD):102440.00 0/0/498>"
       ]
      },
      {
       "output_type": "stream",
       "stream": "stdout",
       "text": [
        "\n",
        "2014-09-07 23:47:00: <Market(GBP_USD):102450.00 0/2/500>"
       ]
      },
      {
       "output_type": "stream",
       "stream": "stdout",
       "text": [
        "\n",
        "2014-09-11 20:47:00: <Market(GBP_USD):102515.00 0/2/513>"
       ]
      },
      {
       "output_type": "stream",
       "stream": "stdout",
       "text": [
        "\n",
        "2014-09-17 21:18:00: <Market(GBP_USD):102575.00 0/2/525>"
       ]
      },
      {
       "output_type": "stream",
       "stream": "stdout",
       "text": [
        "\n",
        "2014-09-23 15:03:00: <Market(GBP_USD):102640.00 0/2/538>"
       ]
      },
      {
       "output_type": "stream",
       "stream": "stdout",
       "text": [
        "\n",
        "2014-09-29 14:29:00: <Market(GBP_USD):102660.00 0/2/542>"
       ]
      },
      {
       "output_type": "stream",
       "stream": "stdout",
       "text": [
        "\n",
        "2014-10-03 13:10:00: <Market(GBP_USD):102690.00 0/0/548>"
       ]
      },
      {
       "output_type": "stream",
       "stream": "stdout",
       "text": [
        "\n",
        "2014-10-09 09:42:00: <Market(GBP_USD):102730.00 0/2/556>"
       ]
      },
      {
       "output_type": "stream",
       "stream": "stdout",
       "text": [
        "\n",
        "2014-10-15 05:58:00: <Market(GBP_USD):102760.00 0/2/562>"
       ]
      },
      {
       "output_type": "stream",
       "stream": "stdout",
       "text": [
        "\n",
        "2014-10-20 23:34:00: <Market(GBP_USD):102840.00 0/0/578>"
       ]
      },
      {
       "output_type": "stream",
       "stream": "stdout",
       "text": [
        "\n",
        "2014-10-26 22:12:00: <Market(GBP_USD):102855.00 0/2/581>"
       ]
      },
      {
       "output_type": "stream",
       "stream": "stdout",
       "text": [
        "\n",
        "2014-10-30 21:16:00: <Market(GBP_USD):102895.00 0/0/589>"
       ]
      },
      {
       "output_type": "stream",
       "stream": "stdout",
       "text": [
        "\n",
        "2014-11-05 15:08:00: <Market(GBP_USD):102915.00 0/0/593>"
       ]
      },
      {
       "output_type": "stream",
       "stream": "stdout",
       "text": [
        "\n",
        "2014-11-11 08:19:00: <Market(GBP_USD):102935.00 0/2/597>"
       ]
      },
      {
       "output_type": "stream",
       "stream": "stdout",
       "text": [
        "\n",
        "2014-11-17 02:07:00: <Market(GBP_USD):102955.00 0/2/601>"
       ]
      },
      {
       "output_type": "stream",
       "stream": "stdout",
       "text": [
        "\n",
        "2014-11-20 23:42:00: <Market(GBP_USD):102985.00 0/0/607>"
       ]
      },
      {
       "output_type": "stream",
       "stream": "stdout",
       "text": [
        "\n",
        "2014-11-26 18:17:00: <Market(GBP_USD):103005.00 0/2/611>"
       ]
      },
      {
       "output_type": "stream",
       "stream": "stdout",
       "text": [
        "\n",
        "2014-12-02 14:07:00: <Market(GBP_USD):103035.00 0/2/617>"
       ]
      },
      {
       "output_type": "stream",
       "stream": "stdout",
       "text": [
        "\n",
        "2014-12-08 10:16:00: <Market(GBP_USD):103065.00 0/2/623>"
       ]
      },
      {
       "output_type": "stream",
       "stream": "stdout",
       "text": [
        "\n",
        "2014-12-12 02:58:00: <Market(GBP_USD):103095.00 0/2/629>"
       ]
      },
      {
       "output_type": "stream",
       "stream": "stdout",
       "text": [
        "\n",
        "2014-12-17 05:16:00: <Market(GBP_USD):103125.00 0/0/635>"
       ]
      },
      {
       "output_type": "stream",
       "stream": "stdout",
       "text": [
        "\n"
       ]
      }
     ],
     "prompt_number": 22
    },
    {
     "cell_type": "code",
     "collapsed": false,
     "input": [
      "bm_market.balance_data.plot()"
     ],
     "language": "python",
     "metadata": {},
     "outputs": [
      {
       "metadata": {},
       "output_type": "pyout",
       "prompt_number": 23,
       "text": [
        "<matplotlib.axes._subplots.AxesSubplot at 0x7f2409cd1090>"
       ]
      },
      {
       "metadata": {},
       "output_type": "display_data",
       "png": "[encoded data removed]",
       "text": [
        "<matplotlib.figure.Figure at 0x7f241661f3d0>"
       ]
      }
     ],
     "prompt_number": 23
    },
    {
     "cell_type": "code",
     "collapsed": false,
     "input": [],
     "language": "python",
     "metadata": {},
     "outputs": []
    }
   ],
   "metadata": {}
  }
 ]
}