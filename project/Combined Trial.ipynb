{
 "metadata": {
  "name": "",
  "signature": "sha256:c943941b2b277c6c55b357bfe0c79a754434a9ffd99201552579353f2591db18"
 },
 "nbformat": 3,
 "nbformat_minor": 0,
 "worksheets": [
  {
   "cells": [
    {
     "cell_type": "code",
     "collapsed": false,
     "input": [
      "import datamaker.db as db\n",
      "from datamaker.model import ETCModel\n",
      "from pathlib import Path\n",
      "import json\n",
      "import numpy as np"
     ],
     "language": "python",
     "metadata": {},
     "outputs": [],
     "prompt_number": 1
    },
    {
     "cell_type": "code",
     "collapsed": false,
     "input": [
      "path = Path(\".\")"
     ],
     "language": "python",
     "metadata": {},
     "outputs": [],
     "prompt_number": 2
    },
    {
     "cell_type": "code",
     "collapsed": false,
     "input": [
      "s = db.Session()\n",
      "strat = s.query(db.Strategy).first()"
     ],
     "language": "python",
     "metadata": {},
     "outputs": [],
     "prompt_number": 3
    },
    {
     "cell_type": "code",
     "collapsed": false,
     "input": [
      "model_params = json.load(list(path.glob(\"models/*.json\"))[0].open())\n",
      "print model_params"
     ],
     "language": "python",
     "metadata": {},
     "outputs": [
      {
       "output_type": "stream",
       "stream": "stdout",
       "text": [
        "{u'model_type': u'ETCModel', u'all_params': {u'model_params': {u'n_estimators': 1000, u'oob_score': False, u'n_jobs': -1, u'verbose': 1}, u'bagging_params': {u'max_features': 1, u'max_samples': 0.01}}}\n"
       ]
      }
     ],
     "prompt_number": 4
    },
    {
     "cell_type": "code",
     "collapsed": false,
     "input": [
      "model = ETCModel()"
     ],
     "language": "python",
     "metadata": {},
     "outputs": [],
     "prompt_number": 5
    },
    {
     "cell_type": "code",
     "collapsed": false,
     "input": [
      "tr_features = strat.load_features(path).copy()\n",
      "heuristic = strat.load_heuristic(path).copy()\n",
      "data = tr_features.join(heuristic)\n",
      "data.fillna(method=\"pad\", inplace=True)\n",
      "data.dropna(inplace=True)"
     ],
     "language": "python",
     "metadata": {},
     "outputs": [],
     "prompt_number": 6
    },
    {
     "cell_type": "code",
     "collapsed": false,
     "input": [
      "test_pct = 0.2\n",
      "test_size = len(data) * test_pct\n",
      "\n",
      "test_ix = data.index[-test_size:]\n",
      "train_ix = data.index[:-test_size]"
     ],
     "language": "python",
     "metadata": {},
     "outputs": [],
     "prompt_number": 7
    },
    {
     "cell_type": "code",
     "collapsed": false,
     "input": [
      "print data.index\n",
      "print train_ix\n",
      "print test_ix"
     ],
     "language": "python",
     "metadata": {},
     "outputs": [
      {
       "output_type": "stream",
       "stream": "stdout",
       "text": [
        "<class 'pandas.tseries.index.DatetimeIndex'>\n",
        "[2014-04-16 00:50:00, ..., 2015-01-07 21:27:00]\n",
        "Length: 253102, Freq: None, Timezone: None\n",
        "<class 'pandas.tseries.index.DatetimeIndex'>\n",
        "[2014-04-16 00:50:00, ..., 2014-11-12 15:44:00]\n",
        "Length: 202482, Freq: None, Timezone: None\n",
        "<class 'pandas.tseries.index.DatetimeIndex'>\n",
        "[2014-11-12 15:45:00, ..., 2015-01-07 21:27:00]\n",
        "Length: 50620, Freq: None, Timezone: None\n"
       ]
      }
     ],
     "prompt_number": 8
    },
    {
     "cell_type": "code",
     "collapsed": false,
     "input": [
      "train_data = data.ix[train_ix]\n",
      "test_data  = data.ix[test_ix]"
     ],
     "language": "python",
     "metadata": {},
     "outputs": [],
     "prompt_number": 11
    },
    {
     "cell_type": "code",
     "collapsed": false,
     "input": [
      "model.train(train_data, \"ShouldBuy\", model_params, {\"name\": strat.name})"
     ],
     "language": "python",
     "metadata": {},
     "outputs": [
      {
       "output_type": "stream",
       "stream": "stderr",
       "text": [
        "[Parallel(n_jobs=8)]: Done   1 out of   8 | elapsed:   10.0s remaining:  1.2min\n",
        "[Parallel(n_jobs=8)]: Done   8 out of   8 | elapsed:   10.0s finished\n"
       ]
      },
      {
       "output_type": "stream",
       "stream": "stderr",
       "text": [
        "[Parallel(n_jobs=8)]: Done   1 out of   8 | elapsed:    9.9s remaining:  1.2min\n",
        "[Parallel(n_jobs=8)]: Done   8 out of   8 | elapsed:    9.9s finished\n",
        "[Parallel(n_jobs=8)]: Done   1 out of   8 | elapsed:   10.1s remaining:  1.2min\n",
        "[Parallel(n_jobs=8)]: Done   8 out of   8 | elapsed:   10.2s finished\n"
       ]
      },
      {
       "output_type": "stream",
       "stream": "stderr",
       "text": [
        "[Parallel(n_jobs=8)]: Done   1 out of   8 | elapsed:   10.4s remaining:  1.2min\n",
        "[Parallel(n_jobs=8)]: Done   8 out of   8 | elapsed:   10.4s finished\n",
        "[Parallel(n_jobs=8)]: Done   1 out of   8 | elapsed:   10.6s remaining:  1.2min\n",
        "[Parallel(n_jobs=8)]: Done   8 out of   8 | elapsed:   10.8s finished\n"
       ]
      },
      {
       "output_type": "stream",
       "stream": "stderr",
       "text": [
        "[Parallel(n_jobs=8)]: Done   1 out of   8 | elapsed:   11.4s remaining:  1.3min\n",
        "[Parallel(n_jobs=8)]: Done   8 out of   8 | elapsed:   11.4s finished\n",
        "[Parallel(n_jobs=8)]: Done   1 out of   8 | elapsed:   10.2s remaining:  1.2min\n",
        "[Parallel(n_jobs=8)]: Done   8 out of   8 | elapsed:   10.3s finished\n"
       ]
      },
      {
       "output_type": "stream",
       "stream": "stderr",
       "text": [
        "[Parallel(n_jobs=8)]: Done   1 out of   8 | elapsed:   12.0s remaining:  1.4min\n",
        "[Parallel(n_jobs=8)]: Done   8 out of   8 | elapsed:   12.1s finished\n",
        "[Parallel(n_jobs=8)]: Done   1 out of   8 | elapsed:   12.0s remaining:  1.4min\n",
        "[Parallel(n_jobs=8)]: Done   8 out of   8 | elapsed:   12.0s finished\n"
       ]
      },
      {
       "output_type": "stream",
       "stream": "stderr",
       "text": [
        "[Parallel(n_jobs=8)]: Done   1 out of   8 | elapsed:   14.2s remaining:  1.7min\n",
        "[Parallel(n_jobs=8)]: Done   8 out of   8 | elapsed:   14.2s finished\n"
       ]
      },
      {
       "ename": "IOError",
       "evalue": "[Errno 2] No such file or directory: u'data/models/EUR_USD_BUY_ETCModel.pkl'",
       "output_type": "pyerr",
       "traceback": [
        "\u001b[1;31m---------------------------------------------------------------------------\u001b[0m\n\u001b[1;31mIOError\u001b[0m                                   Traceback (most recent call last)",
        "\u001b[1;32m<ipython-input-12-2c21c4248986>\u001b[0m in \u001b[0;36m<module>\u001b[1;34m()\u001b[0m\n\u001b[1;32m----> 1\u001b[1;33m \u001b[0mmodel\u001b[0m\u001b[1;33m.\u001b[0m\u001b[0mtrain\u001b[0m\u001b[1;33m(\u001b[0m\u001b[0mtrain_data\u001b[0m\u001b[1;33m,\u001b[0m \u001b[1;34m\"ShouldBuy\"\u001b[0m\u001b[1;33m,\u001b[0m \u001b[0mmodel_params\u001b[0m\u001b[1;33m,\u001b[0m \u001b[1;33m{\u001b[0m\u001b[1;34m\"name\"\u001b[0m\u001b[1;33m:\u001b[0m \u001b[0mstrat\u001b[0m\u001b[1;33m.\u001b[0m\u001b[0mname\u001b[0m\u001b[1;33m}\u001b[0m\u001b[1;33m)\u001b[0m\u001b[1;33m\u001b[0m\u001b[0m\n\u001b[0m",
        "\u001b[1;32m/home/eric/proj/forex/datamaker/datamaker/model.py\u001b[0m in \u001b[0;36mtrain\u001b[1;34m(self, data, y_name, model_params, strategy_params)\u001b[0m\n\u001b[0;32m    158\u001b[0m \u001b[1;33m\u001b[0m\u001b[0m\n\u001b[0;32m    159\u001b[0m         \u001b[1;31m# Save the model\u001b[0m\u001b[1;33m\u001b[0m\u001b[1;33m\u001b[0m\u001b[0m\n\u001b[1;32m--> 160\u001b[1;33m         \u001b[0mself\u001b[0m\u001b[1;33m.\u001b[0m\u001b[0msave_model\u001b[0m\u001b[1;33m(\u001b[0m\u001b[0mstrategy_params\u001b[0m\u001b[1;33m)\u001b[0m\u001b[1;33m\u001b[0m\u001b[0m\n\u001b[0m",
        "\u001b[1;32m/home/eric/proj/forex/datamaker/datamaker/model.py\u001b[0m in \u001b[0;36msave_model\u001b[1;34m(self, strategy_params, path)\u001b[0m\n\u001b[0;32m    123\u001b[0m             \u001b[0mstrategy_params\u001b[0m\u001b[1;33m[\u001b[0m\u001b[1;34m'name'\u001b[0m\u001b[1;33m]\u001b[0m \u001b[1;33m+\u001b[0m \u001b[1;34m'_'\u001b[0m \u001b[1;33m+\u001b[0m \u001b[0mself\u001b[0m\u001b[1;33m.\u001b[0m\u001b[0m__class__\u001b[0m\u001b[1;33m.\u001b[0m\u001b[0m__name__\u001b[0m\u001b[1;33m\u001b[0m\u001b[0m\n\u001b[0;32m    124\u001b[0m \u001b[1;33m\u001b[0m\u001b[0m\n\u001b[1;32m--> 125\u001b[1;33m         \u001b[0mjoblib\u001b[0m\u001b[1;33m.\u001b[0m\u001b[0mdump\u001b[0m\u001b[1;33m(\u001b[0m\u001b[0mself\u001b[0m\u001b[1;33m.\u001b[0m\u001b[0mml_mod\u001b[0m\u001b[1;33m,\u001b[0m \u001b[0mpkl_path\u001b[0m \u001b[1;33m+\u001b[0m \u001b[1;34m'.pkl'\u001b[0m\u001b[1;33m,\u001b[0m \u001b[0mcompress\u001b[0m\u001b[1;33m=\u001b[0m\u001b[0mTrue\u001b[0m\u001b[1;33m)\u001b[0m\u001b[1;33m\u001b[0m\u001b[0m\n\u001b[0m\u001b[0;32m    126\u001b[0m \u001b[1;33m\u001b[0m\u001b[0m\n\u001b[0;32m    127\u001b[0m \u001b[1;33m\u001b[0m\u001b[0m\n",
        "\u001b[1;32m/home/eric/.virtualenvs/datamaker/local/lib/python2.7/site-packages/sklearn/externals/joblib/numpy_pickle.pyc\u001b[0m in \u001b[0;36mdump\u001b[1;34m(value, filename, compress, cache_size)\u001b[0m\n\u001b[0;32m    368\u001b[0m                                cache_size=cache_size)\n\u001b[0;32m    369\u001b[0m         \u001b[0mpickler\u001b[0m\u001b[1;33m.\u001b[0m\u001b[0mdump\u001b[0m\u001b[1;33m(\u001b[0m\u001b[0mvalue\u001b[0m\u001b[1;33m)\u001b[0m\u001b[1;33m\u001b[0m\u001b[0m\n\u001b[1;32m--> 370\u001b[1;33m         \u001b[0mpickler\u001b[0m\u001b[1;33m.\u001b[0m\u001b[0mclose\u001b[0m\u001b[1;33m(\u001b[0m\u001b[1;33m)\u001b[0m\u001b[1;33m\u001b[0m\u001b[0m\n\u001b[0m\u001b[0;32m    371\u001b[0m     \u001b[1;32mfinally\u001b[0m\u001b[1;33m:\u001b[0m\u001b[1;33m\u001b[0m\u001b[0m\n\u001b[0;32m    372\u001b[0m         \u001b[1;32mif\u001b[0m \u001b[1;34m'pickler'\u001b[0m \u001b[1;32min\u001b[0m \u001b[0mlocals\u001b[0m\u001b[1;33m(\u001b[0m\u001b[1;33m)\u001b[0m \u001b[1;32mand\u001b[0m \u001b[0mhasattr\u001b[0m\u001b[1;33m(\u001b[0m\u001b[0mpickler\u001b[0m\u001b[1;33m,\u001b[0m \u001b[1;34m'file'\u001b[0m\u001b[1;33m)\u001b[0m\u001b[1;33m:\u001b[0m\u001b[1;33m\u001b[0m\u001b[0m\n",
        "\u001b[1;32m/home/eric/.virtualenvs/datamaker/local/lib/python2.7/site-packages/sklearn/externals/joblib/numpy_pickle.pyc\u001b[0m in \u001b[0;36mclose\u001b[1;34m(self)\u001b[0m\n\u001b[0;32m    251\u001b[0m     \u001b[1;32mdef\u001b[0m \u001b[0mclose\u001b[0m\u001b[1;33m(\u001b[0m\u001b[0mself\u001b[0m\u001b[1;33m)\u001b[0m\u001b[1;33m:\u001b[0m\u001b[1;33m\u001b[0m\u001b[0m\n\u001b[0;32m    252\u001b[0m         \u001b[1;32mif\u001b[0m \u001b[0mself\u001b[0m\u001b[1;33m.\u001b[0m\u001b[0mcompress\u001b[0m\u001b[1;33m:\u001b[0m\u001b[1;33m\u001b[0m\u001b[0m\n\u001b[1;32m--> 253\u001b[1;33m             \u001b[1;32mwith\u001b[0m \u001b[0mopen\u001b[0m\u001b[1;33m(\u001b[0m\u001b[0mself\u001b[0m\u001b[1;33m.\u001b[0m\u001b[0m_filename\u001b[0m\u001b[1;33m,\u001b[0m \u001b[1;34m'wb'\u001b[0m\u001b[1;33m)\u001b[0m \u001b[1;32mas\u001b[0m \u001b[0mzfile\u001b[0m\u001b[1;33m:\u001b[0m\u001b[1;33m\u001b[0m\u001b[0m\n\u001b[0m\u001b[0;32m    254\u001b[0m                 \u001b[0mwrite_zfile\u001b[0m\u001b[1;33m(\u001b[0m\u001b[0mzfile\u001b[0m\u001b[1;33m,\u001b[0m \u001b[0mself\u001b[0m\u001b[1;33m.\u001b[0m\u001b[0mfile\u001b[0m\u001b[1;33m.\u001b[0m\u001b[0mgetvalue\u001b[0m\u001b[1;33m(\u001b[0m\u001b[1;33m)\u001b[0m\u001b[1;33m,\u001b[0m \u001b[0mself\u001b[0m\u001b[1;33m.\u001b[0m\u001b[0mcompress\u001b[0m\u001b[1;33m)\u001b[0m\u001b[1;33m\u001b[0m\u001b[0m\n\u001b[0;32m    255\u001b[0m \u001b[1;33m\u001b[0m\u001b[0m\n",
        "\u001b[1;31mIOError\u001b[0m: [Errno 2] No such file or directory: u'data/models/EUR_USD_BUY_ETCModel.pkl'"
       ]
      }
     ],
     "prompt_number": 12
    },
    {
     "cell_type": "code",
     "collapsed": false,
     "input": [
      "model.save_model({\"name\": strat.name})"
     ],
     "language": "python",
     "metadata": {},
     "outputs": []
    },
    {
     "cell_type": "code",
     "collapsed": false,
     "input": [],
     "language": "python",
     "metadata": {},
     "outputs": [],
     "prompt_number": 11
    },
    {
     "cell_type": "code",
     "collapsed": false,
     "input": [],
     "language": "python",
     "metadata": {},
     "outputs": []
    }
   ],
   "metadata": {}
  }
 ]
}