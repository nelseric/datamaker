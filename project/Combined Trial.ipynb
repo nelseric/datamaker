{
 "metadata": {
  "name": "",
  "signature": "sha256:2ecc351ab1868687e431699b04fc873fab597812a27b9177fdd59d2077385642"
 },
 "nbformat": 3,
 "nbformat_minor": 0,
 "worksheets": [
  {
   "cells": [
    {
     "cell_type": "code",
     "collapsed": false,
     "input": [
      "import datamaker.db as db\n",
      "from datamaker.model import ETCModel\n",
      "from pathlib import Path\n",
      "import json\n",
      "import numpy as np"
     ],
     "language": "python",
     "metadata": {},
     "outputs": [],
     "prompt_number": 1
    },
    {
     "cell_type": "code",
     "collapsed": false,
     "input": [
      "path = Path(\".\")"
     ],
     "language": "python",
     "metadata": {},
     "outputs": [],
     "prompt_number": 2
    },
    {
     "cell_type": "code",
     "collapsed": false,
     "input": [
      "s = db.Session()\n",
      "strat = s.query(db.Strategy).first()"
     ],
     "language": "python",
     "metadata": {},
     "outputs": [],
     "prompt_number": 3
    },
    {
     "cell_type": "code",
     "collapsed": false,
     "input": [
      "model_params = json.load(list(path.glob(\"models/*.json\"))[0].open())\n",
      "print model_params"
     ],
     "language": "python",
     "metadata": {},
     "outputs": [
      {
       "output_type": "stream",
       "stream": "stdout",
       "text": [
        "{u'model_type': u'ETCModel', u'all_params': {u'model_params': {u'n_estimators': 1000, u'oob_score': False, u'n_jobs': -1, u'verbose': 1}, u'bagging_params': {u'max_features': 1, u'max_samples': 0.01}}}\n"
       ]
      }
     ],
     "prompt_number": 4
    },
    {
     "cell_type": "code",
     "collapsed": false,
     "input": [
      "model = ETCModel()"
     ],
     "language": "python",
     "metadata": {},
     "outputs": [],
     "prompt_number": 5
    },
    {
     "cell_type": "code",
     "collapsed": false,
     "input": [
      "tr_features = strat.load_features(path).copy()\n",
      "heuristic = strat.load_heuristic(path).copy()\n",
      "data = tr_features.join(heuristic)"
     ],
     "language": "python",
     "metadata": {},
     "outputs": [],
     "prompt_number": 6
    },
    {
     "cell_type": "code",
     "collapsed": false,
     "input": [
      "test_ix = data.index[-2000:]\n",
      "train_ix = data.index[:-2000]"
     ],
     "language": "python",
     "metadata": {},
     "outputs": [],
     "prompt_number": 7
    },
    {
     "cell_type": "code",
     "collapsed": false,
     "input": [
      "print data.index\n",
      "print train_ix\n",
      "print test_ix"
     ],
     "language": "python",
     "metadata": {},
     "outputs": [
      {
       "output_type": "stream",
       "stream": "stdout",
       "text": [
        "<class 'pandas.tseries.index.DatetimeIndex'>\n",
        "[2014-12-14 22:00:00, ..., 2015-01-06 21:48:00]\n",
        "Length: 19234, Freq: None, Timezone: None\n",
        "<class 'pandas.tseries.index.DatetimeIndex'>\n",
        "[2014-12-14 22:00:00, ..., 2015-01-05 11:07:00]\n",
        "Length: 17234, Freq: None, Timezone: None\n",
        "<class 'pandas.tseries.index.DatetimeIndex'>\n",
        "[2015-01-05 11:08:00, ..., 2015-01-06 21:48:00]\n",
        "Length: 2000, Freq: None, Timezone: None\n"
       ]
      }
     ],
     "prompt_number": 8
    },
    {
     "cell_type": "code",
     "collapsed": false,
     "input": [
      "train_data = data.ix[train_ix]\n",
      "test_data  = data.ix[test_ix]"
     ],
     "language": "python",
     "metadata": {},
     "outputs": [],
     "prompt_number": 9
    },
    {
     "cell_type": "code",
     "collapsed": false,
     "input": [
      "model.train(train_data, \"ShouldBuy\", model_params, {\"name\": strat.name})"
     ],
     "language": "python",
     "metadata": {},
     "outputs": [
      {
       "output_type": "stream",
       "stream": "stderr",
       "text": [
        "[Parallel(n_jobs=8)]: Done   1 out of   8 | elapsed:    0.8s remaining:    5.4s\n",
        "[Parallel(n_jobs=8)]: Done   8 out of   8 | elapsed:    0.8s finished\n",
        "[Parallel(n_jobs=8)]: Done   1 out of   8 | elapsed:    0.8s remaining:    5.5s\n",
        "[Parallel(n_jobs=8)]: Done   8 out of   8 | elapsed:    0.8s finished\n"
       ]
      },
      {
       "output_type": "stream",
       "stream": "stderr",
       "text": [
        "[Parallel(n_jobs=8)]: Done   1 out of   8 | elapsed:    0.8s remaining:    5.3s\n",
        "[Parallel(n_jobs=8)]: Done   8 out of   8 | elapsed:    0.8s finished\n",
        "[Parallel(n_jobs=8)]: Done   1 out of   8 | elapsed:    0.8s remaining:    5.4s\n",
        "[Parallel(n_jobs=8)]: Done   8 out of   8 | elapsed:    0.8s finished\n"
       ]
      },
      {
       "output_type": "stream",
       "stream": "stderr",
       "text": [
        "[Parallel(n_jobs=8)]: Done   1 out of   8 | elapsed:    0.8s remaining:    5.5s\n",
        "[Parallel(n_jobs=8)]: Done   8 out of   8 | elapsed:    0.8s finished\n",
        "[Parallel(n_jobs=8)]: Done   1 out of   8 | elapsed:    0.8s remaining:    5.4s\n",
        "[Parallel(n_jobs=8)]: Done   8 out of   8 | elapsed:    0.8s finished\n"
       ]
      },
      {
       "output_type": "stream",
       "stream": "stderr",
       "text": [
        "[Parallel(n_jobs=8)]: Done   1 out of   8 | elapsed:    0.8s remaining:    5.5s\n",
        "[Parallel(n_jobs=8)]: Done   8 out of   8 | elapsed:    0.8s finished\n",
        "[Parallel(n_jobs=8)]: Done   1 out of   8 | elapsed:    0.8s remaining:    5.5s\n",
        "[Parallel(n_jobs=8)]: Done   8 out of   8 | elapsed:    0.8s finished\n"
       ]
      },
      {
       "output_type": "stream",
       "stream": "stderr",
       "text": [
        "[Parallel(n_jobs=8)]: Done   1 out of   8 | elapsed:    0.8s remaining:    5.8s\n",
        "[Parallel(n_jobs=8)]: Done   8 out of   8 | elapsed:    0.8s finished\n",
        "[Parallel(n_jobs=8)]: Done   1 out of   8 | elapsed:    0.8s remaining:    5.8s\n",
        "[Parallel(n_jobs=8)]: Done   8 out of   8 | elapsed:    0.9s finished\n"
       ]
      }
     ],
     "prompt_number": 23
    },
    {
     "cell_type": "code",
     "collapsed": false,
     "input": [
      "test_x, test_y = model._preprocess(test_data, \"ShouldBuy\")"
     ],
     "language": "python",
     "metadata": {},
     "outputs": [],
     "prompt_number": 14
    },
    {
     "cell_type": "code",
     "collapsed": false,
     "input": [
      "model.ml_mod.n_features_"
     ],
     "language": "python",
     "metadata": {},
     "outputs": [
      {
       "metadata": {},
       "output_type": "pyout",
       "prompt_number": 24,
       "text": [
        "33"
       ]
      }
     ],
     "prompt_number": 24
    }
   ],
   "metadata": {}
  }
 ]
}